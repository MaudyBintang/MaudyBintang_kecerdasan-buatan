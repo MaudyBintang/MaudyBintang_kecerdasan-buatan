{
 "cells": [
  {
   "cell_type": "code",
   "execution_count": 8,
   "id": "f8d90823-7cad-4dbe-8e7e-8c6f13fd8324",
   "metadata": {},
   "outputs": [],
   "source": [
    "# Maudy bintang si'ra\n",
    "# 05TPLM009\n",
    "# Data\n",
    "\n",
    "company_detail_list = [\n",
    "      {\n",
    "          'name': 'Company 1',\n",
    "          'domain': 'Retail',\n",
    "          'country': 'United States'\n",
    "      },\n",
    "      {\n",
    "          'name': 'Company 2',\n",
    "          'domain': 'Technology',\n",
    "          'country': 'United Kingdom'\n",
    "      },\n",
    "      {\n",
    "          'name': 'Company 3',\n",
    "          'domain': 'Healthcare',\n",
    "          'country': 'United States'\n",
    "      }\n",
    "  ]\n",
    "\n",
    "employee_detail_list = [\n",
    "     {\n",
    "          'name': 'EMP-0001',\n",
    "          'first_name': 'John',\n",
    "          'last_name': 'Doe',\n",
    "          'full_name': 'John Doe',\n",
    "          'company': 'Company 1',\n",
    "          'nationality': 'Australia'\n",
    "      },\n",
    "      {\n",
    "          'name': 'EMP-0002',\n",
    "          'first_name': 'Tom',\n",
    "          'last_name': 'Smith',\n",
    "          'full_name': 'Tom Smith',\n",
    "          'company': 'Company 2',\n",
    "          'nationality': 'United States'\n",
    "      },\n",
    "      {\n",
    "          'name': 'EMP-0003',\n",
    "          'first_name': 'Andrew',\n",
    "          'last_name': 'Sebastian',\n",
    "          'full_name': 'Andrew Sebastian',\n",
    "          'company': 'Company 3',\n",
    "          'nationality': 'United States'\n",
    "      },\n",
    "      {\n",
    "          'name': 'EMP-0005',\n",
    "          'first_name': 'Ying Han',\n",
    "          'last_name': 'Tan',\n",
    "          'full_name': 'Ying Han Tan',\n",
    "          'company': 'Company 1',\n",
    "          'nationality': 'Australia'\n",
    "      },\n",
    "      {\n",
    "          'name': 'EMP-0015',\n",
    "          'first_name': 'Kenneth',\n",
    "          'last_name': 'Ng',\n",
    "          'full_name': 'Kenneth Ng',\n",
    "          'company': 'Company 3',\n",
    "          'nationality': 'United States'\n",
    "      },\n",
    "      {\n",
    "          'name': 'EMP-0018',\n",
    "          'first_name': 'Rubby',\n",
    "          'last_name': 'Lee',\n",
    "          'full_name': 'Rubby Lee',\n",
    "          'company': 'Company 2',\n",
    "          'nationality': 'Hong Kong'\n",
    "      },\n",
    "     {\n",
    "          'name': 'EMP-0017',\n",
    "          'first_name': 'Robert',\n",
    "          'last_name': 'White',\n",
    "          'full_name': 'Robert White',\n",
    "          'company': 'Company 1',\n",
    "          'nationality': 'United Kingdom'\n",
    "      }\n",
    "  ]"
   ]
  },
  {
   "cell_type": "code",
   "execution_count": 68,
   "id": "6a1b1059-80f4-4333-a246-ce47987fe362",
   "metadata": {},
   "outputs": [
    {
     "name": "stdout",
     "output_type": "stream",
     "text": [
      "[{'name': 'Company 3'}, {'name': 'Company 2'}, {'name': 'Company 1'}]\n"
     ]
    }
   ],
   "source": [
    "# task 1\n",
    "sorted_companies = sorted(company_detail_list, key=lambda x: x['name'], reverse=True)\n",
    "sorted_company_names = [{'name': company['name']} for company in sorted_companies]\n",
    "print(sorted_company_names)"
   ]
  },
  {
   "cell_type": "code",
   "execution_count": 67,
   "id": "a13bdbb1-4d2a-4be5-910e-de697a946731",
   "metadata": {},
   "outputs": [
    {
     "name": "stdout",
     "output_type": "stream",
     "text": [
      "Company 1: Retail (United States)\n",
      "Company 2: Technology (United Kingdom)\n",
      "Company 3: Healthcare (United States)\n"
     ]
    }
   ],
   "source": [
    "# task 2\n",
    "for company in company_detail_list:\n",
    "    print(f\"{company['name']}: {company['domain']} ({company['country']})\")\n"
   ]
  },
  {
   "cell_type": "code",
   "execution_count": 57,
   "id": "ba2207f2-031b-4d7c-a549-77fcafd6a6d3",
   "metadata": {},
   "outputs": [
    {
     "name": "stdout",
     "output_type": "stream",
     "text": [
      "{\n",
      "    \"Retail\": [\n",
      "        \"John Doe\",\n",
      "        \"Ying Han Tan\",\n",
      "        \"Robert White\"\n",
      "    ],\n",
      "    \"Technology\": [\n",
      "        \"Tom Smith\",\n",
      "        \"Rubby Lee\"\n",
      "    ],\n",
      "    \"Healthcare\": [\n",
      "        \"Andrew Sebastian\",\n",
      "        \"Kenneth Ng\"\n",
      "    ]\n",
      "}\n"
     ]
    }
   ],
   "source": [
    "# task 3\n",
    "company_to_domain = {company['name']: company['domain'] for company in company_detail_list}\n",
    "\n",
    "employees_by_domain = {}\n",
    "\n",
    "for employee in employee_detail_list:\n",
    "    domain = company_to_domain[employee['company']]\n",
    "    if domain not in employees_by_domain:\n",
    "        employees_by_domain[domain] = []\n",
    "    employees_by_domain[domain].append(employee['full_name'])\n",
    "\n",
    "import json\n",
    "print(json.dumps(employees_by_domain, indent=4))\n"
   ]
  },
  {
   "cell_type": "code",
   "execution_count": 59,
   "id": "3dbafec0-ed1b-4d03-adb0-2c3d4faa0cc0",
   "metadata": {},
   "outputs": [
    {
     "name": "stdout",
     "output_type": "stream",
     "text": [
      "[\n",
      "    {\n",
      "        \"full_name\": \"John Doe\",\n",
      "        \"company\": \"Company 1\",\n",
      "        \"country\": \"United States\"\n",
      "    },\n",
      "    {\n",
      "        \"full_name\": \"Tom Smith\",\n",
      "        \"company\": \"Company 2\",\n",
      "        \"country\": \"United Kingdom\"\n",
      "    },\n",
      "    {\n",
      "        \"full_name\": \"Andrew Sebastian\",\n",
      "        \"company\": \"Company 3\",\n",
      "        \"country\": \"United States\"\n",
      "    },\n",
      "    {\n",
      "        \"full_name\": \"Ying Han Tan\",\n",
      "        \"company\": \"Company 1\",\n",
      "        \"country\": \"United States\"\n",
      "    },\n",
      "    {\n",
      "        \"full_name\": \"Kenneth Ng\",\n",
      "        \"company\": \"Company 3\",\n",
      "        \"country\": \"United States\"\n",
      "    },\n",
      "    {\n",
      "        \"full_name\": \"Rubby Lee\",\n",
      "        \"company\": \"Company 2\",\n",
      "        \"country\": \"United Kingdom\"\n",
      "    },\n",
      "    {\n",
      "        \"full_name\": \"Robert White\",\n",
      "        \"company\": \"Company 1\",\n",
      "        \"country\": \"United States\"\n",
      "    }\n",
      "]\n"
     ]
    }
   ],
   "source": [
    "# Task 4\n",
    "def get_employees_with_company_country(employee_list, company_list):\n",
    "    company_to_country = {company['name']: company['country'] for company in company_list}\n",
    "    result = [\n",
    "        {\n",
    "            'full_name': emp['full_name'],\n",
    "            'company': emp['company'],\n",
    "            'country': company_to_country[emp['company']]\n",
    "        } for emp in employee_list\n",
    "    ]\n",
    "    return result\n",
    "\n",
    "employees_with_country = get_employees_with_company_country(employee_detail_list, company_detail_list)\n",
    "\n",
    "import json\n",
    "print(json.dumps(employees_with_country, indent=4))\n"
   ]
  },
  {
   "cell_type": "code",
   "execution_count": 72,
   "id": "9143af03-d8de-4430-b1ac-480dacc07c1a",
   "metadata": {},
   "outputs": [
    {
     "name": "stdout",
     "output_type": "stream",
     "text": [
      "[{'company': 'Company 1', 'employee_nationality': {'Australia': 2, 'United Kingdom': 1}}, {'company': 'Company 2', 'employee_nationality': {'United States': 1, 'Hong Kong': 1}}, {'company': 'Company 3', 'employee_nationality': {'United States': 2}}]\n"
     ]
    }
   ],
   "source": [
    "# task 5\n",
    "def get_company_employee_nationalities(employee_list, company_list):\n",
    "    company_employee_nationalities = {company['name']: {} for company in company_list}\n",
    "    \n",
    "    for employee in employee_list:\n",
    "        company = employee['company']\n",
    "        nationality = employee['nationality']\n",
    "        if nationality not in company_employee_nationalities[company]:\n",
    "            company_employee_nationalities[company][nationality] = 0\n",
    "        company_employee_nationalities[company][nationality] += 1\n",
    "    \n",
    "    result = [{'company': company, 'employee_nationality': nationalities} for company, nationalities in company_employee_nationalities.items()]\n",
    "    return result\n",
    "\n",
    "company_employee_nationalities = get_company_employee_nationalities(employee_detail_list, company_detail_list)\n",
    "print(company_employee_nationalities)"
   ]
  },
  {
   "cell_type": "code",
   "execution_count": null,
   "id": "4fc264a3-74cc-4e56-ab4e-140d318cdcef",
   "metadata": {},
   "outputs": [],
   "source": []
  }
 ],
 "metadata": {
  "kernelspec": {
   "display_name": "Python 3 (ipykernel)",
   "language": "python",
   "name": "python3"
  },
  "language_info": {
   "codemirror_mode": {
    "name": "ipython",
    "version": 3
   },
   "file_extension": ".py",
   "mimetype": "text/x-python",
   "name": "python",
   "nbconvert_exporter": "python",
   "pygments_lexer": "ipython3",
   "version": "3.12.6"
  }
 },
 "nbformat": 4,
 "nbformat_minor": 5
}
